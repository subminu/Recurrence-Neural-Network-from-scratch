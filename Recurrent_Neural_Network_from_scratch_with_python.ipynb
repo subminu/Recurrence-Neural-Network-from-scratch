{
  "nbformat": 4,
  "nbformat_minor": 0,
  "metadata": {
    "colab": {
      "name": "Recurrent_Neural_Network_from_scratch_with_python.ipynb",
      "provenance": [],
      "collapsed_sections": [],
      "toc_visible": true,
      "mount_file_id": "11UDiO2D3mW4kz9KLeAChxqC0Q2KcYdNm",
      "authorship_tag": "ABX9TyPVLgF8PbMJtqnxHcfDouYE",
      "include_colab_link": true
    },
    "kernelspec": {
      "name": "python3",
      "display_name": "Python 3"
    }
  },
  "cells": [
    {
      "cell_type": "markdown",
      "metadata": {
        "id": "view-in-github",
        "colab_type": "text"
      },
      "source": [
        "<a href=\"https://colab.research.google.com/github/subminu/Recurrence-Neural-Network-from-scratch/blob/main/Recurrent_Neural_Network_from_scratch_with_python.ipynb\" target=\"_parent\"><img src=\"https://colab.research.google.com/assets/colab-badge.svg\" alt=\"Open In Colab\"/></a>"
      ]
    },
    {
      "cell_type": "markdown",
      "metadata": {
        "id": "TpfiQ-t0uJLa"
      },
      "source": [
        "# Recurrent Neural Network from scratch with python"
      ]
    },
    {
      "cell_type": "markdown",
      "metadata": {
        "id": "1zEa_nAkuaDN"
      },
      "source": [
        "## 0. Import dependency pacakge"
      ]
    },
    {
      "cell_type": "code",
      "metadata": {
        "colab": {
          "base_uri": "https://localhost:8080/"
        },
        "id": "rnKEESOk2yXL",
        "outputId": "b8b70ef3-1f66-4354-83ae-655788191203"
      },
      "source": [
        "!pip install emoji"
      ],
      "execution_count": null,
      "outputs": [
        {
          "output_type": "stream",
          "text": [
            "Requirement already satisfied: emoji in /usr/local/lib/python3.6/dist-packages (0.6.0)\n"
          ],
          "name": "stdout"
        }
      ]
    },
    {
      "cell_type": "code",
      "metadata": {
        "id": "ugz8oNZRr79f"
      },
      "source": [
        "import numpy as np\n",
        "from matplotlib import pyplot as plt\n",
        "import pandas as pd\n",
        "\n",
        "from drive.MyDrive.RNN_scratch.data_train_test import emo_utils"
      ],
      "execution_count": null,
      "outputs": []
    },
    {
      "cell_type": "markdown",
      "metadata": {
        "id": "SkpB4R8hu_A4"
      },
      "source": [
        "## 1. Load data"
      ]
    },
    {
      "cell_type": "code",
      "metadata": {
        "id": "Uh_tvtdwvBjE"
      },
      "source": [
        "google_drive_dir = \"./drive/MyDrive/RNN_scratch/\"\n",
        "X_t, Y_t = emo_utils.read_csv(google_drive_dir + \"data_train_test/train_emoji.csv\")\n",
        "X_r, Y_r = emo_utils.read_csv(google_drive_dir + \"data_train_test/test_emoji.csv\")"
      ],
      "execution_count": null,
      "outputs": []
    },
    {
      "cell_type": "code",
      "metadata": {
        "colab": {
          "base_uri": "https://localhost:8080/"
        },
        "id": "WlH3NxQPKIOi",
        "outputId": "6253e996-e7fa-4d81-c331-cb6bce05da61"
      },
      "source": [
        "print(X_t[2], type(Y_t[0]))"
      ],
      "execution_count": null,
      "outputs": [
        {
          "output_type": "stream",
          "text": [
            "It is the worst day in my life <class 'numpy.int64'>\n"
          ],
          "name": "stdout"
        }
      ]
    },
    {
      "cell_type": "code",
      "metadata": {
        "id": "guPMqPgT36QA"
      },
      "source": [
        "words_to_index_50d, index_to_words_50d, word_to_vec_map_50d = emo_utils.read_glove_vecs(google_drive_dir+\"word_embadding/glove.6B.50d.txt\")\n",
        "words_to_index_100d, index_to_words_100d, word_to_vec_map_100d = emo_utils.read_glove_vecs(google_drive_dir+\"word_embadding/glove.6B.100d.txt\")"
      ],
      "execution_count": null,
      "outputs": []
    },
    {
      "cell_type": "markdown",
      "metadata": {
        "id": "ppA09uCK8UhC"
      },
      "source": [
        "## 2. Optimizer"
      ]
    },
    {
      "cell_type": "markdown",
      "metadata": {
        "id": "xKM0-Vcs8iR0"
      },
      "source": [
        "### 2.1 Stochastic Gradient Descent"
      ]
    },
    {
      "cell_type": "code",
      "metadata": {
        "id": "bOuSS8pl8hpi"
      },
      "source": [
        "class SGD:\n",
        "  def __init__(self, learning_rate=1e-2):\n",
        "    self.lr = learning_rate\n",
        "\n",
        "  def __call__(self, X, dX):\n",
        "    X -= self.lr * dX\n",
        "    return X\n",
        "  \n",
        "  def flush(self):\n",
        "    pass"
      ],
      "execution_count": null,
      "outputs": []
    },
    {
      "cell_type": "markdown",
      "metadata": {
        "id": "Iu84FGUNgWfb"
      },
      "source": [
        "### 2.2 Adam"
      ]
    },
    {
      "cell_type": "code",
      "metadata": {
        "id": "L0HwlxJx8T2n"
      },
      "source": [
        "class Adam:\n",
        "  def __init__(self, learning_rate=1e-3, beta_1=0.9, beta_2=0.999, epsilon=1e-8):\n",
        "    self.lr = learning_rate\n",
        "    self.b1 = beta_1\n",
        "    self.b2 = beta_2\n",
        "    self.e = epsilon\n",
        "\n",
        "    self.M = 0\n",
        "    self.V = 0\n",
        "    self.t = 0\n",
        "\n",
        "  def __call__(self, X, dX):\n",
        "    self.t += 1\n",
        "    \n",
        "    self.M = self.b1 * self.M + (1 - self.b1) * dX\n",
        "    self.V = self.b2 * self.V + (1 - self.b2) * (dX * dX)\n",
        "\n",
        "    M_cap = self.M / (1 - (self.b1**self.t))\n",
        "    V_cap = self.V / (1 - (self.b2**self.t))\n",
        "\n",
        "    X -= self.lr * (M_cap / np.sqrt(V_cap+self.e))\n",
        "\n",
        "    return X\n",
        "  \n",
        "  def flush(self):\n",
        "    self.M = 0\n",
        "    self.V = 0\n",
        "    self.t = 0"
      ],
      "execution_count": null,
      "outputs": []
    },
    {
      "cell_type": "markdown",
      "metadata": {
        "id": "QqKbH7n1ZLZn"
      },
      "source": [
        "## 3. Activation function"
      ]
    },
    {
      "cell_type": "markdown",
      "metadata": {
        "id": "PhAAyRtd7yaL"
      },
      "source": [
        "### 3.1 ReLU"
      ]
    },
    {
      "cell_type": "code",
      "metadata": {
        "id": "tThCd-cE71Ez"
      },
      "source": [
        "class ReLU:\n",
        "    def prop(self, X):\n",
        "        return np.maximum(0, X)\n",
        "    \n",
        "    def derivative(self, X):\n",
        "        result = np.copy(X)\n",
        "        result[result >= 0] = 1\n",
        "        result[result < 0] = 0\n",
        "        return result"
      ],
      "execution_count": null,
      "outputs": []
    },
    {
      "cell_type": "markdown",
      "metadata": {
        "id": "XpgdzxQQgZ8z"
      },
      "source": [
        "### 3.2 Hyperbolic tangent"
      ]
    },
    {
      "cell_type": "code",
      "metadata": {
        "id": "Ai5mGThlZK2H"
      },
      "source": [
        "class Tanh:\n",
        "  def __init__(self):\n",
        "    self.out = None\n",
        "    pass\n",
        "\n",
        "  def __call__(self, X):\n",
        "    self.out = np.tanh(X)\n",
        "    return self.out"
      ],
      "execution_count": null,
      "outputs": []
    },
    {
      "cell_type": "markdown",
      "metadata": {
        "id": "Qcddaw4Kgj7n"
      },
      "source": [
        "### 3.3 Sigmoid"
      ]
    },
    {
      "cell_type": "code",
      "metadata": {
        "id": "2FzDJj-xbvcC"
      },
      "source": [
        "class Sigmoid:\n",
        "  def __init__(self):\n",
        "    self.out = None\n",
        "    pass\n",
        "\n",
        "  def __call__(self, X):\n",
        "    self.out = 1 / (1 + np.exp(-1 * X))\n",
        "    return self.out"
      ],
      "execution_count": null,
      "outputs": []
    },
    {
      "cell_type": "markdown",
      "metadata": {
        "id": "9qDtcH_D-ONf"
      },
      "source": [
        "### 3.4 Softmax"
      ]
    },
    {
      "cell_type": "code",
      "metadata": {
        "id": "bIev7YFC-SVS"
      },
      "source": [
        "class Softmax:\n",
        "    def __init__(self):\n",
        "        self.output = None\n",
        "    \n",
        "    def prop(self, X):\n",
        "        X -= np.max(X, axis=1, keepdims=True)\n",
        "        self.output = np.exp(X)/np.sum(np.exp(X), axis=1, keepdims=True)\n",
        "        return self.output\n",
        "    \n",
        "    def derivative(self, Y):\n",
        "        \"\"\"This function was used for derivative loss_func(softmax(Y_hat),Y)\"\"\"\n",
        "        result = self.output.copy()\n",
        "        result[np.arange(result.shape[0]),Y] -= 1\n",
        "        return result"
      ],
      "execution_count": null,
      "outputs": []
    },
    {
      "cell_type": "markdown",
      "metadata": {
        "id": "2ufrQhuugxGK"
      },
      "source": [
        "## 4. Layers"
      ]
    },
    {
      "cell_type": "markdown",
      "metadata": {
        "id": "3xYIsrJifGwP"
      },
      "source": [
        "### 4.1 Layer_embadding"
      ]
    },
    {
      "cell_type": "code",
      "metadata": {
        "id": "I6bG1eOMfKY8"
      },
      "source": [
        "class Layer_embadding:\n",
        "  def __init__(self, glove):\n",
        "    \"\"\"\n",
        "      glove - we used already trained embadding word to vector map.\n",
        "    \"\"\"\n",
        "    self.word_to_vec = glove\n",
        "    pass\n",
        "\n",
        "  def prop(self, X, train_mode=True):\n",
        "    return np.array([self.word_to_vec[x.lower()].reshape(1,-1) for x in X.split()])\n",
        "\n",
        "  def backprop(self, dZ):\n",
        "    pass\n",
        "\n",
        "  def update(self):\n",
        "    pass\n",
        "  \n",
        "  def flush(self, flush_opt=False):\n",
        "    pass"
      ],
      "execution_count": null,
      "outputs": []
    },
    {
      "cell_type": "markdown",
      "metadata": {
        "id": "g3S_H_9Of-3q"
      },
      "source": [
        "### 4.2 Layer_dropout"
      ]
    },
    {
      "cell_type": "code",
      "metadata": {
        "id": "Kldwk3O1f-a_"
      },
      "source": [
        "class Layer_dropout:\n",
        "  def __init__(self, threshold):\n",
        "    self.threshold = threshold\n",
        "    self.mask = None\n",
        "    pass\n",
        "\n",
        "  def prop(self, X, train_mode=True):\n",
        "    if train_mode:\n",
        "      self.mask = np.random.rand(*X.shape) > self.threshold\n",
        "      return np.multiply(X, self.mask)\n",
        "    else:\n",
        "      return X * self.threshold\n",
        "\n",
        "  def backprop(self, dZ):\n",
        "    return np.multiply(dZ, self.mask)\n",
        "\n",
        "  def update(self):\n",
        "    pass\n",
        "\n",
        "  def flush(self, flush_opt=False):\n",
        "    pass"
      ],
      "execution_count": null,
      "outputs": []
    },
    {
      "cell_type": "markdown",
      "metadata": {
        "id": "oWH6mg5cgNHn"
      },
      "source": [
        "### 4.3 Layer_dense"
      ]
    },
    {
      "cell_type": "code",
      "metadata": {
        "id": "t0pIPR_gg-rF"
      },
      "source": [
        "class Layer_dense:\n",
        "  def __init__(self, input_size, output_size, activation, optimizer, output_layer=False):\n",
        "      # parameters\n",
        "      self.W = np.random.normal(size=(input_size, output_size))\n",
        "      self.b = np.random.normal(size=(1,output_size))\n",
        "\n",
        "      # parameters(derivative)\n",
        "      self.dW = None\n",
        "      self.db = None\n",
        "\n",
        "      # history\n",
        "      self.inputs = None\n",
        "      self.L = None\n",
        "\n",
        "      # activation\n",
        "      self.activation_func = activation()\n",
        "\n",
        "      # flag\n",
        "      self.output_layer = output_layer\n",
        "\n",
        "      # optimizer\n",
        "      self.opts = { key:optimizer() for key in [\"W\", \"b\"] }\n",
        "  \n",
        "  def prop(self, X, train_mode=True):\n",
        "      self.inputs = X\n",
        "      self.L = np.dot(X, self.W) + self.b\n",
        "      self.outputs = self.activation_func.prop(self.L) \n",
        "      return self.outputs\n",
        "  \n",
        "  def backprop(self, dZ):\n",
        "      if self.output_layer:\n",
        "          dZ = self.activation_func.derivative(dZ)\n",
        "      else:\n",
        "          dZ = np.multiply(self.activation_func.derivative(self.L), dZ)\n",
        "      \n",
        "      self.dW = np.dot(self.inputs.T, dZ)\n",
        "      self.db = np.sum(dZ, axis=0, keepdims = True)\n",
        "\n",
        "      return np.dot(dZ, self.W.T)\n",
        "  \n",
        "  def update(self):\n",
        "      self.W = self.opts[\"W\"](self.W, self.dW)\n",
        "      self.b = self.opts[\"b\"](self.b, self.db)\n",
        "\n",
        "  def flush(self, flush_opt=False):\n",
        "    if flush_opt:\n",
        "      for opt in self.opts.values():\n",
        "        opt.flush()"
      ],
      "execution_count": null,
      "outputs": []
    },
    {
      "cell_type": "markdown",
      "metadata": {
        "id": "dI0VUOgFhEue"
      },
      "source": [
        "### 4.4 Layer_vanillaRNN"
      ]
    },
    {
      "cell_type": "code",
      "metadata": {
        "id": "a-LSOsyP77MW"
      },
      "source": [
        "class Layer_vanillaRNN:\n",
        "  def __init__(self, in_dim, hidden_dim, optimizer):\n",
        "    I, H = in_dim, hidden_dim\n",
        "    self.W_hh = np.random.normal(size=(H, H), scale=0.05)\n",
        "    self.W_xh = np.random.normal(size=(I, H), scale=0.05)\n",
        "    self.b_h = np.zeros((1, H))\n",
        "\n",
        "    self.dW_hh = 0\n",
        "    self.dW_xh = 0\n",
        "    self.db_h = 0\n",
        "\n",
        "    self.hiddens = [np.zeros((1, H))]\n",
        "    self.vecs = [None]\n",
        "    self.N = None\n",
        "\n",
        "    self.act = Tanh()\n",
        "    self.opts = { key: optimizer() for key in [\"W_hh\", \"W_xh\", \"b_h\"] }\n",
        "    pass\n",
        "\n",
        "  def prop(self, X, train_mode=True):\n",
        "\n",
        "    self.hiddens = [self.hiddens[0]]\n",
        "    self.vecs = [None]\n",
        "    self.N = None\n",
        "\n",
        "    for t, vec in enumerate(X,1):\n",
        "      self.vecs.append(vec)\n",
        "\n",
        "      result = np.dot(self.hiddens[t-1], self.W_hh) + np.dot(self.vecs[t], self.W_xh) + self.b_h\n",
        "      hidden_next = self.act(result)\n",
        "      self.hiddens.append(hidden_next)\n",
        "    \n",
        "    self.N = t\n",
        "    return np.array(self.hiddens[1:])\n",
        "\n",
        "  def backprop(self, dhiddens):\n",
        "    dH = 0\n",
        "    dx = []\n",
        "\n",
        "    self.dW_hh = 0\n",
        "    self.dW_xh = 0\n",
        "    self.db_h = 0\n",
        "\n",
        "    if dhiddens.shape[0] != self.N:\n",
        "      dhiddens = [dhiddens] + [0 for _ in range(self.N-1)]\n",
        "    \n",
        "    for t, dhidden in zip(range(self.N,0,-1), dhiddens):\n",
        "      dH = dH + dhidden\n",
        "      dt = dH * (1 - self.hiddens[t]**2)\n",
        "      # dt = self.act.backprop(dH)\n",
        "\n",
        "\n",
        "      self.db_h += dt\n",
        "      self.dW_xh += np.dot(self.vecs[t].T, dt)\n",
        "      self.dW_hh += np.dot(self.hiddens[t-1].T, dt)\n",
        "\n",
        "      dx.append(np.dot(dt, self.W_xh.T))\n",
        "      \n",
        "      dH = np.dot(dt, self.W_hh.T)\n",
        "    \n",
        "    for d in [self.dW_xh, self.dW_hh, self.db_h]:\n",
        "      np.clip(d, -1, 1, out=d)\n",
        "\n",
        "    return np.array(dx).reshape(self.N,1,-1)\n",
        "\n",
        "  def update(self):\n",
        "    self.W_hh = self.opts[\"W_hh\"](self.W_hh, self.dW_hh)\n",
        "    self.W_xh = self.opts[\"W_xh\"](self.W_xh, self.dW_xh)\n",
        "    self.b_h = self.opts[\"b_h\"](self.b_h, self.db_h)\n",
        "  \n",
        "  def flush(self):\n",
        "    for opt in self.opts.values():\n",
        "      opt.flush()\n",
        "\n"
      ],
      "execution_count": null,
      "outputs": []
    },
    {
      "cell_type": "markdown",
      "metadata": {
        "id": "Qy69SGvRhcoI"
      },
      "source": [
        "### 4.5 Layer_LSTM"
      ]
    },
    {
      "cell_type": "code",
      "metadata": {
        "id": "BNvauRHnhfol"
      },
      "source": [
        "class Layer_LSTM:\n",
        "  def __init__(self, in_dim, hidden_dim, optimizer):\n",
        "    I, H = in_dim, hidden_dim\n",
        "    # forget\n",
        "    self.W_hf = np.random.normal(size=(H, H), scale=0.05)\n",
        "    self.W_xf = np.random.normal(size=(I, H), scale=0.05)\n",
        "    self.b_f = np.zeros((1, H))\n",
        "\n",
        "    # input\n",
        "    self.W_his = np.random.normal(size=(H, H), scale=0.05)\n",
        "    self.W_xis = np.random.normal(size=(I, H), scale=0.05)\n",
        "    self.b_is = np.zeros((1, H))\n",
        "\n",
        "    self.W_hit = np.random.normal(size=(H, H), scale=0.05)\n",
        "    self.W_xit = np.random.normal(size=(I, H), scale=0.05)\n",
        "    self.b_it = np.zeros((1, H))\n",
        "\n",
        "    # output\n",
        "    self.W_ho = np.random.normal(size=(H, H), scale=0.05)\n",
        "    self.W_xo = np.random.normal(size=(I, H), scale=0.05)\n",
        "    self.b_o = np.zeros((1, H))\n",
        "\n",
        "    # forget_grad\n",
        "    self.dW_hf = 0\n",
        "    self.dW_xf = 0\n",
        "    self.db_f = 0\n",
        "\n",
        "    # input_grad\n",
        "    self.dW_his = 0\n",
        "    self.dW_xis = 0\n",
        "    self.db_is = 0\n",
        "\n",
        "    self.dW_hit = 0\n",
        "    self.dW_xit = 0\n",
        "    self.db_it = 0\n",
        "\n",
        "    # output_grad\n",
        "    self.dW_ho = 0\n",
        "    self.dW_xo = 0\n",
        "    self.db_o = 0\n",
        "\n",
        "    self.hiddens = [np.zeros((1, H))]\n",
        "    self.cells = [np.zeros((1, H))]\n",
        "    self.vecs = [None]\n",
        "\n",
        "    self.forget_masks = []\n",
        "    self.input_masks = []\n",
        "    self.input_infos = []\n",
        "    self.output_masks = []\n",
        "    self.output_infos = []\n",
        "\n",
        "    self.forget_sig = Sigmoid()\n",
        "    self.input_sig = Sigmoid()\n",
        "    self.input_tanh = Tanh()\n",
        "    self.output_sig = Sigmoid()\n",
        "    self.output_tanh = Tanh()\n",
        "\n",
        "    self.N = None\n",
        "    self.opts = { key: optimizer() for key in [\"W_hf\", \"W_xf\", \"b_f\", \"W_his\", \"W_xis\", \"b_is\", \"W_hit\", \"W_xit\", \"b_it\", \"W_ho\", \"W_xo\", \"b_o\"] }\n",
        "\n",
        "  def prop(self, X, train_mode=True):\n",
        "    self.hiddens = [self.hiddens[0]]\n",
        "    self.cells = [self.cells[0]]\n",
        "    self.vecs = [None]\n",
        "\n",
        "    self.forget_masks = [None]\n",
        "    self.input_masks =[None]\n",
        "    self.input_infos = [None]\n",
        "    self.output_masks = [None]\n",
        "    self.output_infos = [None]\n",
        "    \n",
        "    for t, vec in enumerate(X,1):\n",
        "      self.vecs.append(vec)\n",
        "\n",
        "      # forget\n",
        "      forget_term = np.dot(self.hiddens[t-1], self.W_hf) + np.dot(vec, self.W_xf) + self.b_f\n",
        "      forget_mask = self.forget_sig(forget_term)\n",
        "      cell_next = np.multiply(self.cells[t-1], forget_mask)\n",
        "\n",
        "      self.forget_masks.append(forget_mask)\n",
        "\n",
        "      # input\n",
        "      input_term_1 = np.dot(self.hiddens[t-1], self.W_his) + np.dot(vec, self.W_xis) + self.b_is\n",
        "      input_term_2 = np.dot(self.hiddens[t-1], self.W_hit) + np.dot(vec, self.W_xit) + self.b_it\n",
        "\n",
        "      input_mask = self.input_sig(input_term_1)\n",
        "      input_info = self.input_tanh(input_term_2)\n",
        "\n",
        "      curr_cell = np.multiply(input_mask, input_info)\n",
        "      cell_next = cell_next + curr_cell\n",
        "\n",
        "      self.input_masks.append(input_mask)\n",
        "      self.input_infos.append(input_info)\n",
        "\n",
        "      # output\n",
        "      output_term = np.dot(self.hiddens[t-1], self.W_ho) + np.dot(vec, self.W_xo) + self.b_o\n",
        "\n",
        "      output_mask = self.output_sig(output_term)\n",
        "      output_info = self.output_tanh(cell_next)\n",
        "\n",
        "      hidden_next = np.multiply(output_mask, output_info)\n",
        "\n",
        "      self.output_masks.append(output_mask)\n",
        "      self.output_infos.append(output_info)\n",
        "  \n",
        "      self.cells.append(cell_next)\n",
        "      self.hiddens.append(hidden_next)\n",
        "    \n",
        "    self.N = t\n",
        "\n",
        "    return np.array(self.hiddens[1:])\n",
        "\n",
        "  def backprop(self, dhiddens):\n",
        "    dH = 0\n",
        "    dC = 0\n",
        "    dx = []\n",
        "\n",
        "    # forget_grad\n",
        "    self.dW_hf = 0\n",
        "    self.dW_xf = 0\n",
        "    self.db_f = 0\n",
        "\n",
        "    # input_grad\n",
        "    self.dW_his = 0\n",
        "    self.dW_xis = 0\n",
        "    self.db_is = 0\n",
        "\n",
        "    self.dW_hit = 0\n",
        "    self.dW_xit = 0\n",
        "    self.db_it = 0\n",
        "\n",
        "    # output_grad\n",
        "    self.dW_ho = 0\n",
        "    self.dW_xo = 0\n",
        "    self.db_o = 0\n",
        "\n",
        "    if dhiddens.shape[0] != self.N:\n",
        "      dhiddens = [dhiddens] + [0 for _ in range(self.N-1)]\n",
        "    \n",
        "    for t, dhidden in zip(range(self.N,0,-1), dhiddens):\n",
        "      dH = dH + dhidden\n",
        "      dC = dC + np.multiply(self.output_masks[t], dH) * (1 - self.output_infos[t]**2)\n",
        "\n",
        "      dom = np.multiply(dH, self.output_infos[t])\n",
        "      dim = np.multiply(dC, self.input_infos[t])\n",
        "      dii = np.multiply(dC, self.input_masks[t])\n",
        "      dfm = np.multiply(dC, self.cells[t-1])\n",
        "\n",
        "      dom *= self.output_masks[t] * (1 - self.output_masks[t])\n",
        "      dim *= self.input_masks[t] * (1 - self.input_masks[t])\n",
        "      dii *= (1 - self.input_infos[t] ** 2)\n",
        "      dfm *= self.forget_masks[t] * (1 - self.forget_masks[t])\n",
        "      \n",
        "      # forget_grad\n",
        "      self.dW_hf += np.dot(self.hiddens[t-1].T, dfm)\n",
        "      self.dW_xf += np.dot(self.vecs[t].T, dfm)\n",
        "      self.db_f += dfm\n",
        "\n",
        "      # input_grad\n",
        "      self.dW_his += np.dot(self.hiddens[t-1].T, dim)\n",
        "      self.dW_xis += np.dot(self.vecs[t].T, dim)\n",
        "      self.db_is += dii\n",
        "\n",
        "      self.dW_hit += np.dot(self.hiddens[t-1].T, dii)\n",
        "      self.dW_xit += np.dot(self.vecs[t].T, dii)\n",
        "      self.db_it += dii\n",
        "\n",
        "      # output_grad\n",
        "      self.dW_ho += np.dot(self.hiddens[t-1].T, dom)\n",
        "      self.dW_xo += np.dot(self.vecs[t].T, dom)\n",
        "      self.db_o += dom\n",
        "\n",
        "      weights_x = [self.W_xf, self.W_xis, self.W_xit, self.W_xo]\n",
        "      weights_h = [self.W_hf, self.W_his, self.W_hit, self.W_ho]\n",
        "      \n",
        "      deltas = [dfm, dim, dii, dom]\n",
        "      \n",
        "\n",
        "      dx.append(np.sum([np.dot(delta, weight.T) for delta, weight in zip(deltas, weights_x)], axis=0))\n",
        "      \n",
        "      dH = np.sum([np.dot(delta, weight.T) for delta, weight in zip(deltas, weights_h)], axis=0)\n",
        "      dC = np.multiply(dC, self.forget_masks[t])\n",
        "    \n",
        "    dweights_x = [self.dW_xf, self.dW_xis, self.dW_xit, self.dW_xo]\n",
        "    dweights_h = [self.dW_hf, self.dW_his, self.dW_hit, self.dW_ho]\n",
        "    dbias = [self.db_f, self.db_is, self.db_it, self.db_o]\n",
        "\n",
        "    for d in dweights_h+dweights_x+dbias:\n",
        "      np.clip(d, -1, 1, out=d)\n",
        "    \n",
        "    return np.array(dx).reshape(self.N,1,-1)\n",
        "\n",
        "  def update(self):\n",
        "\n",
        "    # forget\n",
        "    self.W_hf = self.opts[\"W_hf\"](self.W_hf, self.dW_hf)\n",
        "    self.W_xf = self.opts[\"W_xf\"](self.W_xf, self.dW_xf)\n",
        "    self.b_f = self.opts[\"b_f\"](self.b_f, self.db_f)\n",
        "\n",
        "    # input\n",
        "    self.W_his = self.opts[\"W_his\"](self.W_his, self.dW_his)\n",
        "    self.W_xis = self.opts[\"W_xis\"](self.W_xis, self.dW_xis)\n",
        "    self.b_is = self.opts[\"b_is\"](self.b_is, self.db_is)\n",
        "\n",
        "    self.W_hit = self.opts[\"W_hit\"](self.W_hit, self.dW_hit)\n",
        "    self.W_xit = self.opts[\"W_xit\"](self.W_xit, self.dW_xit)\n",
        "    self.b_it = self.opts[\"b_it\"](self.b_it, self.db_it)\n",
        "\n",
        "    # output\n",
        "    self.W_ho = self.opts[\"W_ho\"](self.W_ho, self.dW_ho)\n",
        "    self.W_xo = self.opts[\"W_xo\"](self.W_xo, self.dW_xo)\n",
        "    self.b_o = self.opts[\"b_o\"](self.b_o, self.db_o)\n",
        "  \n",
        "  def flush(self):\n",
        "    for opt in self.opts.values():\n",
        "      opt.flush()"
      ],
      "execution_count": null,
      "outputs": []
    },
    {
      "cell_type": "markdown",
      "metadata": {
        "id": "J6SzSKQV91Dp"
      },
      "source": [
        "## 5. Loss function"
      ]
    },
    {
      "cell_type": "markdown",
      "metadata": {
        "id": "UGMhkRmI96mg"
      },
      "source": [
        "### 5.1 Multi-Class Cross Entropy"
      ]
    },
    {
      "cell_type": "code",
      "metadata": {
        "id": "Bpmu-D8E-BqU"
      },
      "source": [
        "class Cross_entropy:\n",
        "  def __init__(self):\n",
        "    pass\n",
        "  def __call__(self, Y_hat, Y):\n",
        "      return np.sum(-1 * np.log(Y_hat[np.arange(Y_hat.shape[0]),:,Y] + 1e-7))"
      ],
      "execution_count": null,
      "outputs": []
    },
    {
      "cell_type": "markdown",
      "metadata": {
        "id": "4qNlBIMi7BFN"
      },
      "source": [
        "## 6. RNN"
      ]
    },
    {
      "cell_type": "code",
      "metadata": {
        "id": "Z_MMp6fReXbo"
      },
      "source": [
        "class RNN:\n",
        "  def __init__(self, loss_func):\n",
        "    np.random.seed(0)\n",
        "\n",
        "    self.layers = []\n",
        "    self.out_layers = []\n",
        "\n",
        "    self.loss_history = []\n",
        "    self.loss_func = loss_func()\n",
        "\n",
        "  def add(self, layer):\n",
        "    self.layers.append(layer)\n",
        "\n",
        "  def add_out_layer(self, layer):\n",
        "    self.out_layers.append(layer)\n",
        "\n",
        "  def forword(self, X, train_mode=True):\n",
        "    result = X\n",
        "    for layer in self.layers:\n",
        "      result = layer.prop(result, train_mode)\n",
        "    \n",
        "    result = result[-1]\n",
        "\n",
        "    for layer in self.out_layers:\n",
        "      result = layer.prop(result, train_mode)\n",
        "\n",
        "    return result\n",
        "\n",
        "  def backword(self, Y):\n",
        "    dZ = Y\n",
        "    for layer in reversed(self.out_layers):\n",
        "      dZ = layer.backprop(dZ)\n",
        "\n",
        "\n",
        "    for layer in reversed(self.layers):\n",
        "      dZ = layer.backprop(dZ)\n",
        "\n",
        "    \n",
        "  def update(self):\n",
        "    for layer in reversed(self.out_layers):\n",
        "      layer.update()\n",
        "\n",
        "    \n",
        "    for layer in reversed(self.layers):\n",
        "      layer.update()\n",
        "    \n",
        "  def flush(self):\n",
        "    for layer in reversed(self.out_layers):\n",
        "      layer.flush()\n",
        "\n",
        "    \n",
        "    for layer in reversed(self.layers):\n",
        "      layer.flush()\n",
        "\n",
        "  def fit(self, X, Y, epochs):\n",
        "    for epoch in range(epochs):\n",
        "      for x, y in zip(X,Y):\n",
        "        result = self.forword(x)\n",
        "        self.backword(y)\n",
        "        self.update()\n",
        "      self.flush()\n",
        "      Y_hat = self.get_Y_hat(X)\n",
        "      loss = self.get_loss(Y_hat, Y)\n",
        "      acc = self.get_acc(Y_hat, Y)\n",
        "      self.loss_history.append(loss)\n",
        "      print(f\"[{epoch+1}/{epochs}] loss:{loss:.4f} acc:{acc:.4f}\")\n",
        "  \n",
        "  def get_Y_hat(self, X):\n",
        "    hypothesis = []\n",
        "    for x in X:\n",
        "      hypothesis.append(self.forword(x, train_mode=False))\n",
        "    \n",
        "    return np.array(hypothesis)\n",
        "  \n",
        "  def get_acc(self, Y_hat, Y):\n",
        "    return np.sum([1 for correct in np.equal(np.argmax(Y_hat.reshape(Y_hat.shape[0], Y_hat.shape[-1]), axis=-1),Y) if correct]) / Y.shape[0]\n",
        "\n",
        "  def get_loss(self, Y_hat, Y):\n",
        "    return self.loss_func(Y_hat, Y) / Y.shape[0]\n",
        "\n",
        "  def get_predict(self, X):\n",
        "    Y_hat = self.get_Y_hat(X)\n",
        "    return np.argmax(Y_hat.reshape(Y_hat.shape[0], Y_hat.shape[-1]), axis=-1)"
      ],
      "execution_count": null,
      "outputs": []
    },
    {
      "cell_type": "markdown",
      "metadata": {
        "id": "4zTqQ9GIMMtU"
      },
      "source": [
        "## 7. RNN models"
      ]
    },
    {
      "cell_type": "markdown",
      "metadata": {
        "id": "lmW4sgh0-T01"
      },
      "source": [
        "### 7.1 VanillaRNN"
      ]
    },
    {
      "cell_type": "code",
      "metadata": {
        "id": "Nvjj_4TdMTUC"
      },
      "source": [
        "vanillaRNN = RNN(Cross_entropy)\n",
        "vanillaRNN.add(Layer_embadding(word_to_vec_map_50d))\n",
        "vanillaRNN.add(Layer_vanillaRNN(50, 256, SGD))\n",
        "vanillaRNN.add(Layer_vanillaRNN(256, 128, SGD))\n",
        "vanillaRNN.add_out_layer(Layer_dense(128, 5, Softmax, SGD, True))"
      ],
      "execution_count": null,
      "outputs": []
    },
    {
      "cell_type": "code",
      "metadata": {
        "colab": {
          "base_uri": "https://localhost:8080/"
        },
        "id": "MfwU0NiSNrym",
        "outputId": "c73e5c16-0b26-49a3-99a7-89e6a3dbf202"
      },
      "source": [
        "vanillaRNN.fit(X_t, Y_t, 50)"
      ],
      "execution_count": null,
      "outputs": [
        {
          "output_type": "stream",
          "text": [
            "[1/50] loss:2.1443 acc:0.3258\n",
            "[2/50] loss:1.8081 acc:0.2955\n",
            "[3/50] loss:1.7326 acc:0.3636\n",
            "[4/50] loss:1.6398 acc:0.3636\n",
            "[5/50] loss:1.5705 acc:0.3409\n",
            "[6/50] loss:1.5675 acc:0.3485\n",
            "[7/50] loss:1.5441 acc:0.3712\n",
            "[8/50] loss:1.5205 acc:0.3788\n",
            "[9/50] loss:1.4791 acc:0.3939\n",
            "[10/50] loss:1.5043 acc:0.3636\n",
            "[11/50] loss:1.4639 acc:0.3939\n",
            "[12/50] loss:1.4760 acc:0.3712\n",
            "[13/50] loss:1.4674 acc:0.3561\n",
            "[14/50] loss:1.4289 acc:0.3788\n",
            "[15/50] loss:1.4407 acc:0.3864\n",
            "[16/50] loss:1.3211 acc:0.4773\n",
            "[17/50] loss:1.3404 acc:0.5076\n",
            "[18/50] loss:1.3464 acc:0.4318\n",
            "[19/50] loss:1.1332 acc:0.5530\n",
            "[20/50] loss:1.7789 acc:0.3712\n",
            "[21/50] loss:1.5585 acc:0.4242\n",
            "[22/50] loss:1.2050 acc:0.4848\n",
            "[23/50] loss:1.0293 acc:0.5985\n",
            "[24/50] loss:0.8894 acc:0.6364\n",
            "[25/50] loss:1.0750 acc:0.5909\n",
            "[26/50] loss:0.9844 acc:0.5985\n",
            "[27/50] loss:0.9230 acc:0.6439\n",
            "[28/50] loss:0.8094 acc:0.6591\n",
            "[29/50] loss:0.9176 acc:0.6061\n",
            "[30/50] loss:0.7920 acc:0.6894\n",
            "[31/50] loss:0.8489 acc:0.6818\n",
            "[32/50] loss:0.8272 acc:0.6970\n",
            "[33/50] loss:0.8425 acc:0.7121\n",
            "[34/50] loss:0.7810 acc:0.7273\n",
            "[35/50] loss:0.5107 acc:0.7955\n",
            "[36/50] loss:0.7875 acc:0.7727\n",
            "[37/50] loss:0.4990 acc:0.7879\n",
            "[38/50] loss:0.4578 acc:0.8258\n",
            "[39/50] loss:0.6388 acc:0.7803\n",
            "[40/50] loss:0.3528 acc:0.8636\n",
            "[41/50] loss:0.6826 acc:0.8106\n",
            "[42/50] loss:0.6974 acc:0.7955\n",
            "[43/50] loss:0.7234 acc:0.7879\n",
            "[44/50] loss:0.6941 acc:0.7273\n",
            "[45/50] loss:0.4379 acc:0.8182\n",
            "[46/50] loss:0.3947 acc:0.8485\n",
            "[47/50] loss:0.3600 acc:0.9015\n",
            "[48/50] loss:0.1899 acc:0.9167\n",
            "[49/50] loss:0.2398 acc:0.9545\n",
            "[50/50] loss:0.2091 acc:0.8939\n"
          ],
          "name": "stdout"
        }
      ]
    },
    {
      "cell_type": "code",
      "metadata": {
        "colab": {
          "base_uri": "https://localhost:8080/"
        },
        "id": "YCbh1s5o80KL",
        "outputId": "3d71aae6-8667-4b63-dc8f-f04f80a57135"
      },
      "source": [
        "vanillaRNN.get_acc(vanillaRNN.get_Y_hat(X_r), Y_r)"
      ],
      "execution_count": null,
      "outputs": [
        {
          "output_type": "execute_result",
          "data": {
            "text/plain": [
              "0.5178571428571429"
            ]
          },
          "metadata": {
            "tags": []
          },
          "execution_count": 21
        }
      ]
    },
    {
      "cell_type": "markdown",
      "metadata": {
        "id": "1etotxe8-LxX"
      },
      "source": [
        "### 7.2 LSTM(SGD+50d)"
      ]
    },
    {
      "cell_type": "code",
      "metadata": {
        "id": "tqHYzqD8AQqP"
      },
      "source": [
        "LSTM_s50 = RNN(Cross_entropy)\n",
        "LSTM_s50.add(Layer_embadding(word_to_vec_map_50d))\n",
        "LSTM_s50.add(Layer_LSTM(50, 256, SGD))\n",
        "LSTM_s50.add(Layer_LSTM(256, 128, SGD))\n",
        "LSTM_s50.add_out_layer(Layer_dense(128, 5, Softmax, SGD, True))"
      ],
      "execution_count": null,
      "outputs": []
    },
    {
      "cell_type": "code",
      "metadata": {
        "colab": {
          "base_uri": "https://localhost:8080/"
        },
        "id": "ftqKOI3BfQ1h",
        "outputId": "a530969b-c72b-4b82-83ce-405c61e336a4"
      },
      "source": [
        "LSTM_s50.fit(X_t, Y_t, 50)"
      ],
      "execution_count": null,
      "outputs": [
        {
          "output_type": "stream",
          "text": [
            "[1/50] loss:1.0178 acc:0.6591\n",
            "[2/50] loss:0.8142 acc:0.7424\n",
            "[3/50] loss:0.7025 acc:0.7500\n",
            "[4/50] loss:0.6264 acc:0.8030\n",
            "[5/50] loss:0.5684 acc:0.8258\n",
            "[6/50] loss:0.5205 acc:0.8485\n",
            "[7/50] loss:0.4805 acc:0.8485\n",
            "[8/50] loss:0.4476 acc:0.8636\n",
            "[9/50] loss:0.4209 acc:0.8712\n",
            "[10/50] loss:0.3992 acc:0.8788\n",
            "[11/50] loss:0.3811 acc:0.8864\n",
            "[12/50] loss:0.3657 acc:0.8864\n",
            "[13/50] loss:0.3522 acc:0.8788\n",
            "[14/50] loss:0.3403 acc:0.8788\n",
            "[15/50] loss:0.3296 acc:0.8788\n",
            "[16/50] loss:0.3198 acc:0.8939\n",
            "[17/50] loss:0.3108 acc:0.9091\n",
            "[18/50] loss:0.3028 acc:0.9091\n",
            "[19/50] loss:0.2954 acc:0.9167\n",
            "[20/50] loss:0.2878 acc:0.9167\n",
            "[21/50] loss:0.2780 acc:0.9167\n",
            "[22/50] loss:0.2652 acc:0.9167\n",
            "[23/50] loss:0.2502 acc:0.9167\n",
            "[24/50] loss:0.2307 acc:0.9242\n",
            "[25/50] loss:0.2017 acc:0.9318\n",
            "[26/50] loss:0.1704 acc:0.9545\n",
            "[27/50] loss:0.1401 acc:0.9621\n",
            "[28/50] loss:0.1140 acc:0.9773\n",
            "[29/50] loss:0.0932 acc:0.9848\n",
            "[30/50] loss:0.0811 acc:0.9848\n",
            "[31/50] loss:0.0791 acc:0.9848\n",
            "[32/50] loss:0.0926 acc:0.9848\n",
            "[33/50] loss:0.0872 acc:0.9848\n",
            "[34/50] loss:0.0670 acc:0.9848\n",
            "[35/50] loss:0.0566 acc:0.9924\n",
            "[36/50] loss:0.0457 acc:0.9924\n",
            "[37/50] loss:0.0417 acc:0.9924\n",
            "[38/50] loss:0.0380 acc:0.9924\n",
            "[39/50] loss:0.0319 acc:1.0000\n",
            "[40/50] loss:0.0296 acc:1.0000\n",
            "[41/50] loss:0.0274 acc:1.0000\n",
            "[42/50] loss:0.0259 acc:1.0000\n",
            "[43/50] loss:0.0246 acc:1.0000\n",
            "[44/50] loss:0.0233 acc:1.0000\n",
            "[45/50] loss:0.0218 acc:1.0000\n",
            "[46/50] loss:0.0200 acc:1.0000\n",
            "[47/50] loss:0.0181 acc:1.0000\n",
            "[48/50] loss:0.0161 acc:1.0000\n",
            "[49/50] loss:0.0143 acc:1.0000\n",
            "[50/50] loss:0.0127 acc:1.0000\n"
          ],
          "name": "stdout"
        }
      ]
    },
    {
      "cell_type": "code",
      "metadata": {
        "colab": {
          "base_uri": "https://localhost:8080/"
        },
        "id": "-oq08uiv-Bnn",
        "outputId": "81da205d-02fb-40be-a18c-2dc128c36b42"
      },
      "source": [
        "LSTM_s50.get_acc(LSTM_s50.get_Y_hat(X_r), Y_r)"
      ],
      "execution_count": null,
      "outputs": [
        {
          "output_type": "execute_result",
          "data": {
            "text/plain": [
              "0.8928571428571429"
            ]
          },
          "metadata": {
            "tags": []
          },
          "execution_count": 24
        }
      ]
    },
    {
      "cell_type": "markdown",
      "metadata": {
        "id": "xdo1Su1p-nNq"
      },
      "source": [
        "### 7.3 LSTM(Adam+50d)"
      ]
    },
    {
      "cell_type": "code",
      "metadata": {
        "id": "6BxcVMS-C2ft"
      },
      "source": [
        "LSTM_a50 = RNN(Cross_entropy)\n",
        "LSTM_a50.add(Layer_embadding(word_to_vec_map_50d))\n",
        "LSTM_a50.add(Layer_LSTM(50, 256, Adam))\n",
        "LSTM_a50.add(Layer_LSTM(256, 128, Adam))\n",
        "LSTM_a50.add_out_layer(Layer_dense(128, 5, Softmax, Adam, True))"
      ],
      "execution_count": null,
      "outputs": []
    },
    {
      "cell_type": "code",
      "metadata": {
        "colab": {
          "base_uri": "https://localhost:8080/"
        },
        "id": "iJ40VicsD0yE",
        "outputId": "5c4c9450-c87d-4c92-efb3-d6cd6fcf5565"
      },
      "source": [
        "LSTM_a50.fit(X_t, Y_t, 50)"
      ],
      "execution_count": null,
      "outputs": [
        {
          "output_type": "stream",
          "text": [
            "[1/50] loss:0.9141 acc:0.6364\n",
            "[2/50] loss:0.4939 acc:0.8333\n",
            "[3/50] loss:0.2996 acc:0.9015\n",
            "[4/50] loss:0.2394 acc:0.9318\n",
            "[5/50] loss:0.1930 acc:0.9394\n",
            "[6/50] loss:0.0492 acc:0.9848\n",
            "[7/50] loss:0.0344 acc:0.9924\n",
            "[8/50] loss:0.1522 acc:0.9545\n",
            "[9/50] loss:0.0946 acc:0.9773\n",
            "[10/50] loss:0.0498 acc:0.9924\n",
            "[11/50] loss:0.0383 acc:0.9773\n",
            "[12/50] loss:0.0155 acc:1.0000\n",
            "[13/50] loss:0.0108 acc:0.9924\n",
            "[14/50] loss:0.3391 acc:0.8712\n",
            "[15/50] loss:0.0053 acc:1.0000\n",
            "[16/50] loss:0.0002 acc:1.0000\n",
            "[17/50] loss:0.0336 acc:0.9848\n",
            "[18/50] loss:0.0001 acc:1.0000\n",
            "[19/50] loss:0.0170 acc:0.9924\n",
            "[20/50] loss:0.0275 acc:0.9924\n",
            "[21/50] loss:0.0007 acc:1.0000\n",
            "[22/50] loss:0.0000 acc:1.0000\n",
            "[23/50] loss:0.0000 acc:1.0000\n",
            "[24/50] loss:0.0000 acc:1.0000\n",
            "[25/50] loss:0.0000 acc:1.0000\n",
            "[26/50] loss:0.0000 acc:1.0000\n",
            "[27/50] loss:0.0000 acc:1.0000\n",
            "[28/50] loss:0.0000 acc:1.0000\n",
            "[29/50] loss:0.0000 acc:1.0000\n",
            "[30/50] loss:0.0000 acc:1.0000\n",
            "[31/50] loss:0.0000 acc:1.0000\n",
            "[32/50] loss:0.0000 acc:1.0000\n",
            "[33/50] loss:0.0000 acc:1.0000\n",
            "[34/50] loss:0.0000 acc:1.0000\n",
            "[35/50] loss:0.0000 acc:1.0000\n",
            "[36/50] loss:0.0000 acc:1.0000\n",
            "[37/50] loss:0.0000 acc:1.0000\n",
            "[38/50] loss:0.0000 acc:1.0000\n",
            "[39/50] loss:0.0000 acc:1.0000\n",
            "[40/50] loss:0.0000 acc:1.0000\n",
            "[41/50] loss:0.0000 acc:1.0000\n",
            "[42/50] loss:0.0000 acc:1.0000\n",
            "[43/50] loss:0.0000 acc:1.0000\n",
            "[44/50] loss:0.0000 acc:1.0000\n",
            "[45/50] loss:0.0000 acc:1.0000\n",
            "[46/50] loss:0.0000 acc:1.0000\n",
            "[47/50] loss:0.0000 acc:1.0000\n",
            "[48/50] loss:0.0000 acc:1.0000\n",
            "[49/50] loss:0.0000 acc:1.0000\n",
            "[50/50] loss:0.0000 acc:1.0000\n"
          ],
          "name": "stdout"
        }
      ]
    },
    {
      "cell_type": "code",
      "metadata": {
        "colab": {
          "base_uri": "https://localhost:8080/"
        },
        "id": "8RemlRF49JMz",
        "outputId": "6f3bed6d-4b14-41ec-efb5-e43a2f3f0ffc"
      },
      "source": [
        "LSTM_a50.get_acc(LSTM_a50.get_Y_hat(X_r), Y_r)"
      ],
      "execution_count": null,
      "outputs": [
        {
          "output_type": "execute_result",
          "data": {
            "text/plain": [
              "0.7678571428571429"
            ]
          },
          "metadata": {
            "tags": []
          },
          "execution_count": 27
        }
      ]
    },
    {
      "cell_type": "markdown",
      "metadata": {
        "id": "hdq53huG-u-K"
      },
      "source": [
        "### 7.4 LSTM(SGD+50d+Dropout)"
      ]
    },
    {
      "cell_type": "code",
      "metadata": {
        "id": "97ZDrixUfdFq"
      },
      "source": [
        "LSTM_s50d = RNN(Cross_entropy)\n",
        "LSTM_s50d.add(Layer_embadding(word_to_vec_map_50d))\n",
        "LSTM_s50d.add(Layer_LSTM(50, 256, Adam))\n",
        "LSTM_s50d.add(Layer_dropout(0.5))\n",
        "LSTM_s50d.add(Layer_LSTM(256, 128, Adam))\n",
        "LSTM_s50d.add_out_layer(Layer_dropout(0.5))\n",
        "LSTM_s50d.add_out_layer(Layer_dense(128, 5, Softmax, Adam, True))"
      ],
      "execution_count": null,
      "outputs": []
    },
    {
      "cell_type": "code",
      "metadata": {
        "colab": {
          "base_uri": "https://localhost:8080/"
        },
        "id": "m0VinSBbTY4p",
        "outputId": "80fdd816-7675-4eaa-f746-fd356ba0398a"
      },
      "source": [
        "LSTM_s50d.fit(X_t,Y_t,50)"
      ],
      "execution_count": null,
      "outputs": [
        {
          "output_type": "stream",
          "text": [
            "[1/50] loss:1.2858 acc:0.4924\n",
            "[2/50] loss:1.0022 acc:0.5833\n",
            "[3/50] loss:0.8131 acc:0.6667\n",
            "[4/50] loss:0.5951 acc:0.7652\n",
            "[5/50] loss:0.4391 acc:0.8561\n",
            "[6/50] loss:0.3240 acc:0.8864\n",
            "[7/50] loss:0.1901 acc:0.9167\n",
            "[8/50] loss:0.1825 acc:0.9545\n",
            "[9/50] loss:0.3448 acc:0.9015\n",
            "[10/50] loss:0.0861 acc:0.9848\n",
            "[11/50] loss:0.1631 acc:0.9545\n",
            "[12/50] loss:0.1189 acc:0.9697\n",
            "[13/50] loss:0.0921 acc:0.9773\n",
            "[14/50] loss:0.2322 acc:0.9318\n",
            "[15/50] loss:0.1200 acc:0.9621\n",
            "[16/50] loss:0.0166 acc:1.0000\n",
            "[17/50] loss:0.0778 acc:0.9773\n",
            "[18/50] loss:0.0631 acc:0.9924\n",
            "[19/50] loss:0.0072 acc:1.0000\n",
            "[20/50] loss:0.0046 acc:1.0000\n",
            "[21/50] loss:0.0483 acc:0.9924\n",
            "[22/50] loss:0.0436 acc:0.9773\n",
            "[23/50] loss:0.0047 acc:1.0000\n",
            "[24/50] loss:0.0031 acc:1.0000\n",
            "[25/50] loss:0.1237 acc:0.9545\n",
            "[26/50] loss:0.0178 acc:0.9924\n",
            "[27/50] loss:0.0003 acc:1.0000\n",
            "[28/50] loss:0.0025 acc:1.0000\n",
            "[29/50] loss:0.0003 acc:1.0000\n",
            "[30/50] loss:0.3217 acc:0.9394\n",
            "[31/50] loss:0.0001 acc:1.0000\n",
            "[32/50] loss:0.0005 acc:1.0000\n",
            "[33/50] loss:0.0340 acc:0.9924\n",
            "[34/50] loss:0.0001 acc:1.0000\n",
            "[35/50] loss:0.0270 acc:0.9924\n",
            "[36/50] loss:0.0000 acc:1.0000\n",
            "[37/50] loss:0.0455 acc:0.9773\n",
            "[38/50] loss:0.0000 acc:1.0000\n",
            "[39/50] loss:0.0075 acc:0.9924\n",
            "[40/50] loss:0.0000 acc:1.0000\n",
            "[41/50] loss:0.0000 acc:1.0000\n",
            "[42/50] loss:0.0000 acc:1.0000\n",
            "[43/50] loss:0.0000 acc:1.0000\n",
            "[44/50] loss:0.0000 acc:1.0000\n",
            "[45/50] loss:0.0000 acc:1.0000\n",
            "[46/50] loss:0.0000 acc:1.0000\n",
            "[47/50] loss:0.0000 acc:1.0000\n",
            "[48/50] loss:0.0000 acc:1.0000\n",
            "[49/50] loss:0.0000 acc:1.0000\n",
            "[50/50] loss:0.0000 acc:1.0000\n"
          ],
          "name": "stdout"
        }
      ]
    },
    {
      "cell_type": "code",
      "metadata": {
        "colab": {
          "base_uri": "https://localhost:8080/"
        },
        "id": "p5q7O8XQ_Rq2",
        "outputId": "562dfb6d-1082-4182-fbfa-36d102fc93f0"
      },
      "source": [
        "LSTM_s50d.get_acc(LSTM_s50d.get_Y_hat(X_r), Y_r)"
      ],
      "execution_count": null,
      "outputs": [
        {
          "output_type": "execute_result",
          "data": {
            "text/plain": [
              "0.8035714285714286"
            ]
          },
          "metadata": {
            "tags": []
          },
          "execution_count": 30
        }
      ]
    },
    {
      "cell_type": "markdown",
      "metadata": {
        "id": "CmQT_h4W-2Ay"
      },
      "source": [
        "### 7.5 LSTM(ADAM+100d)"
      ]
    },
    {
      "cell_type": "code",
      "metadata": {
        "id": "yj5d0M6JTe6m"
      },
      "source": [
        "LSTM_s100 = RNN(Cross_entropy)\n",
        "LSTM_s100.add(Layer_embadding(word_to_vec_map_100d))\n",
        "LSTM_s100.add(Layer_LSTM(100, 256, SGD))\n",
        "LSTM_s100.add(Layer_LSTM(256, 128, SGD))\n",
        "LSTM_s100.add_out_layer(Layer_dense(128, 5, Softmax, SGD, True))"
      ],
      "execution_count": null,
      "outputs": []
    },
    {
      "cell_type": "code",
      "metadata": {
        "colab": {
          "base_uri": "https://localhost:8080/"
        },
        "id": "yPOknOMhTgW-",
        "outputId": "3d707158-2097-413d-dad7-d7fc679fdccb"
      },
      "source": [
        "LSTM_s100.fit(X_t,Y_t,50)"
      ],
      "execution_count": null,
      "outputs": [
        {
          "output_type": "stream",
          "text": [
            "[1/50] loss:0.9983 acc:0.7121\n",
            "[2/50] loss:0.7557 acc:0.7955\n",
            "[3/50] loss:0.6129 acc:0.8182\n",
            "[4/50] loss:0.5194 acc:0.8409\n",
            "[5/50] loss:0.4550 acc:0.8561\n",
            "[6/50] loss:0.4052 acc:0.8939\n",
            "[7/50] loss:0.3690 acc:0.8939\n",
            "[8/50] loss:0.3471 acc:0.8939\n",
            "[9/50] loss:0.3372 acc:0.8939\n",
            "[10/50] loss:0.3353 acc:0.9015\n",
            "[11/50] loss:0.3381 acc:0.9015\n",
            "[12/50] loss:0.3387 acc:0.8939\n",
            "[13/50] loss:0.3477 acc:0.8939\n",
            "[14/50] loss:0.3386 acc:0.8939\n",
            "[15/50] loss:0.3033 acc:0.8939\n",
            "[16/50] loss:0.2556 acc:0.9167\n",
            "[17/50] loss:0.2027 acc:0.9394\n",
            "[18/50] loss:0.1567 acc:0.9621\n",
            "[19/50] loss:0.1221 acc:0.9621\n",
            "[20/50] loss:0.0944 acc:0.9848\n",
            "[21/50] loss:0.0760 acc:0.9848\n",
            "[22/50] loss:0.0619 acc:0.9848\n",
            "[23/50] loss:0.0504 acc:0.9848\n",
            "[24/50] loss:0.0411 acc:0.9924\n",
            "[25/50] loss:0.0337 acc:1.0000\n",
            "[26/50] loss:0.0281 acc:1.0000\n",
            "[27/50] loss:0.0239 acc:1.0000\n",
            "[28/50] loss:0.0206 acc:1.0000\n",
            "[29/50] loss:0.0180 acc:1.0000\n",
            "[30/50] loss:0.0158 acc:1.0000\n",
            "[31/50] loss:0.0140 acc:1.0000\n",
            "[32/50] loss:0.0124 acc:1.0000\n",
            "[33/50] loss:0.0111 acc:1.0000\n",
            "[34/50] loss:0.0100 acc:1.0000\n",
            "[35/50] loss:0.0091 acc:1.0000\n",
            "[36/50] loss:0.0084 acc:1.0000\n",
            "[37/50] loss:0.0078 acc:1.0000\n",
            "[38/50] loss:0.0073 acc:1.0000\n",
            "[39/50] loss:0.0069 acc:1.0000\n",
            "[40/50] loss:0.0065 acc:1.0000\n",
            "[41/50] loss:0.0061 acc:1.0000\n",
            "[42/50] loss:0.0058 acc:1.0000\n",
            "[43/50] loss:0.0055 acc:1.0000\n",
            "[44/50] loss:0.0052 acc:1.0000\n",
            "[45/50] loss:0.0049 acc:1.0000\n",
            "[46/50] loss:0.0047 acc:1.0000\n",
            "[47/50] loss:0.0045 acc:1.0000\n",
            "[48/50] loss:0.0043 acc:1.0000\n",
            "[49/50] loss:0.0041 acc:1.0000\n",
            "[50/50] loss:0.0039 acc:1.0000\n"
          ],
          "name": "stdout"
        }
      ]
    },
    {
      "cell_type": "code",
      "metadata": {
        "colab": {
          "base_uri": "https://localhost:8080/"
        },
        "id": "cFcX6juMTpPE",
        "outputId": "0e372833-da3a-4822-ebb8-428a809fec65"
      },
      "source": [
        "LSTM_s100.get_acc(LSTM_s100.get_Y_hat(X_r), Y_r)"
      ],
      "execution_count": null,
      "outputs": [
        {
          "output_type": "execute_result",
          "data": {
            "text/plain": [
              "0.8035714285714286"
            ]
          },
          "metadata": {
            "tags": []
          },
          "execution_count": 33
        }
      ]
    },
    {
      "cell_type": "markdown",
      "metadata": {
        "id": "VY3Bj8ZfHH1I"
      },
      "source": [
        "## 8. Result"
      ]
    },
    {
      "cell_type": "markdown",
      "metadata": {
        "id": "TfcrdRluKPwJ"
      },
      "source": [
        "### 8.1 Accuracy"
      ]
    },
    {
      "cell_type": "code",
      "metadata": {
        "colab": {
          "base_uri": "https://localhost:8080/",
          "height": 195
        },
        "id": "be8jFaCI_aKY",
        "outputId": "bad93846-5995-4edf-9f7d-47a46e8bdf92"
      },
      "source": [
        "models = [vanillaRNN, LSTM_s50, LSTM_a50, LSTM_s50d, LSTM_s100]\n",
        "model_names = [\"RNN+SGD+50d\", \"LSTM+SGD+50d\", \"LSTM+Adam+50d\", \"LSTM+SGD+50d+dropout\", \"LSTM+SGD+100d\" ]\n",
        "accuracies = [model.get_acc(model.get_Y_hat(X_r), Y_r) for model in models]\n",
        "accuracy_table = pd.DataFrame(accuracies, columns=[\"accuracy\"], index=model_names)\n",
        "accuracy_table"
      ],
      "execution_count": null,
      "outputs": [
        {
          "output_type": "execute_result",
          "data": {
            "text/html": [
              "<div>\n",
              "<style scoped>\n",
              "    .dataframe tbody tr th:only-of-type {\n",
              "        vertical-align: middle;\n",
              "    }\n",
              "\n",
              "    .dataframe tbody tr th {\n",
              "        vertical-align: top;\n",
              "    }\n",
              "\n",
              "    .dataframe thead th {\n",
              "        text-align: right;\n",
              "    }\n",
              "</style>\n",
              "<table border=\"1\" class=\"dataframe\">\n",
              "  <thead>\n",
              "    <tr style=\"text-align: right;\">\n",
              "      <th></th>\n",
              "      <th>accuracy</th>\n",
              "    </tr>\n",
              "  </thead>\n",
              "  <tbody>\n",
              "    <tr>\n",
              "      <th>RNN+SGD+50d</th>\n",
              "      <td>0.517857</td>\n",
              "    </tr>\n",
              "    <tr>\n",
              "      <th>LSTM+SGD+50d</th>\n",
              "      <td>0.892857</td>\n",
              "    </tr>\n",
              "    <tr>\n",
              "      <th>LSTM+Adam+50d</th>\n",
              "      <td>0.767857</td>\n",
              "    </tr>\n",
              "    <tr>\n",
              "      <th>LSTM+SGD+50d+dropout</th>\n",
              "      <td>0.803571</td>\n",
              "    </tr>\n",
              "    <tr>\n",
              "      <th>LSTM+SGD+100d</th>\n",
              "      <td>0.803571</td>\n",
              "    </tr>\n",
              "  </tbody>\n",
              "</table>\n",
              "</div>"
            ],
            "text/plain": [
              "                      accuracy\n",
              "RNN+SGD+50d           0.517857\n",
              "LSTM+SGD+50d          0.892857\n",
              "LSTM+Adam+50d         0.767857\n",
              "LSTM+SGD+50d+dropout  0.803571\n",
              "LSTM+SGD+100d         0.803571"
            ]
          },
          "metadata": {
            "tags": []
          },
          "execution_count": 34
        }
      ]
    },
    {
      "cell_type": "markdown",
      "metadata": {
        "id": "f-Cb2an1MtCl"
      },
      "source": [
        "### 8.2 Loss graph"
      ]
    },
    {
      "cell_type": "code",
      "metadata": {
        "colab": {
          "base_uri": "https://localhost:8080/",
          "height": 275
        },
        "id": "8cTIdiRJLz0B",
        "outputId": "87f67382-eae5-4748-c9a1-361b6a37f9f5"
      },
      "source": [
        "plt.figure(figsize=(12, 4))\n",
        "for model in models:\n",
        "  plt.plot(range(1,51), model.loss_history)\n",
        "plt.legend(model_names)\n",
        "plt.title(f\"loss graph\")\n",
        "plt.xlabel(\"epochs\")\n",
        "plt.ylabel(\"loss\")\n",
        "plt.grid(\"on\")\n",
        "plt.show()"
      ],
      "execution_count": null,
      "outputs": [
        {
          "output_type": "display_data",
          "data": {
            "image/png": "[encoded data removed]",
            "text/plain": [
              "<Figure size 864x288 with 1 Axes>"
            ]
          },
          "metadata": {
            "tags": [],
            "needs_background": "light"
          }
        }
      ]
    },
    {
      "cell_type": "markdown",
      "metadata": {
        "id": "VgVaSbloZcA3"
      },
      "source": [
        "### 8.3 All emojis for test set"
      ]
    },
    {
      "cell_type": "code",
      "metadata": {
        "colab": {
          "base_uri": "https://localhost:8080/",
          "height": 1000
        },
        "id": "WEulGbWfOsc7",
        "outputId": "29306e5e-33c7-4de0-9a3b-501d4332dca4"
      },
      "source": [
        "model_predicts = [model.get_predict(X_r) for model in models]\n",
        "predicts_to_emoji = np.array([[emo_utils.label_to_emoji(x) for x in predicts] for predicts in model_predicts+[Y_r]]).T\n",
        "texts = [text.replace(\"\\t\",\"\") for text in X_r]\n",
        "predict_table = pd.DataFrame(predicts_to_emoji, index=texts, columns=model_names+[\"reference\"])\n",
        "predict_table"
      ],
      "execution_count": null,
      "outputs": [
        {
          "output_type": "execute_result",
          "data": {
            "text/html": [
              "<div>\n",
              "<style scoped>\n",
              "    .dataframe tbody tr th:only-of-type {\n",
              "        vertical-align: middle;\n",
              "    }\n",
              "\n",
              "    .dataframe tbody tr th {\n",
              "        vertical-align: top;\n",
              "    }\n",
              "\n",
              "    .dataframe thead th {\n",
              "        text-align: right;\n",
              "    }\n",
              "</style>\n",
              "<table border=\"1\" class=\"dataframe\">\n",
              "  <thead>\n",
              "    <tr style=\"text-align: right;\">\n",
              "      <th></th>\n",
              "      <th>RNN+SGD+50d</th>\n",
              "      <th>LSTM+SGD+50d</th>\n",
              "      <th>LSTM+Adam+50d</th>\n",
              "      <th>LSTM+SGD+50d+dropout</th>\n",
              "      <th>LSTM+SGD+100d</th>\n",
              "      <th>reference</th>\n",
              "    </tr>\n",
              "  </thead>\n",
              "  <tbody>\n",
              "    <tr>\n",
              "      <th>I want to eat</th>\n",
              "      <td>🍴</td>\n",
              "      <td>🍴</td>\n",
              "      <td>🍴</td>\n",
              "      <td>🍴</td>\n",
              "      <td>🍴</td>\n",
              "      <td>🍴</td>\n",
              "    </tr>\n",
              "    <tr>\n",
              "      <th>he did not answer</th>\n",
              "      <td>😞</td>\n",
              "      <td>😞</td>\n",
              "      <td>😞</td>\n",
              "      <td>😞</td>\n",
              "      <td>😞</td>\n",
              "      <td>😞</td>\n",
              "    </tr>\n",
              "    <tr>\n",
              "      <th>he got a very nice raise</th>\n",
              "      <td>😄</td>\n",
              "      <td>😄</td>\n",
              "      <td>😞</td>\n",
              "      <td>😄</td>\n",
              "      <td>❤️</td>\n",
              "      <td>😄</td>\n",
              "    </tr>\n",
              "    <tr>\n",
              "      <th>she got me a nice present</th>\n",
              "      <td>😄</td>\n",
              "      <td>😄</td>\n",
              "      <td>😄</td>\n",
              "      <td>❤️</td>\n",
              "      <td>❤️</td>\n",
              "      <td>😄</td>\n",
              "    </tr>\n",
              "    <tr>\n",
              "      <th>ha ha ha it was so funny</th>\n",
              "      <td>😄</td>\n",
              "      <td>😄</td>\n",
              "      <td>😄</td>\n",
              "      <td>😄</td>\n",
              "      <td>😄</td>\n",
              "      <td>😄</td>\n",
              "    </tr>\n",
              "    <tr>\n",
              "      <th>he is a good friend</th>\n",
              "      <td>😄</td>\n",
              "      <td>😄</td>\n",
              "      <td>😞</td>\n",
              "      <td>😄</td>\n",
              "      <td>❤️</td>\n",
              "      <td>😄</td>\n",
              "    </tr>\n",
              "    <tr>\n",
              "      <th>I am upset</th>\n",
              "      <td>⚾</td>\n",
              "      <td>😞</td>\n",
              "      <td>😞</td>\n",
              "      <td>😞</td>\n",
              "      <td>😞</td>\n",
              "      <td>😞</td>\n",
              "    </tr>\n",
              "    <tr>\n",
              "      <th>We had such a lovely dinner tonight</th>\n",
              "      <td>⚾</td>\n",
              "      <td>😄</td>\n",
              "      <td>😄</td>\n",
              "      <td>😄</td>\n",
              "      <td>😄</td>\n",
              "      <td>😄</td>\n",
              "    </tr>\n",
              "    <tr>\n",
              "      <th>where is the food</th>\n",
              "      <td>🍴</td>\n",
              "      <td>🍴</td>\n",
              "      <td>🍴</td>\n",
              "      <td>🍴</td>\n",
              "      <td>🍴</td>\n",
              "      <td>🍴</td>\n",
              "    </tr>\n",
              "    <tr>\n",
              "      <th>Stop making this joke ha ha ha</th>\n",
              "      <td>😞</td>\n",
              "      <td>😄</td>\n",
              "      <td>😄</td>\n",
              "      <td>😄</td>\n",
              "      <td>😄</td>\n",
              "      <td>😄</td>\n",
              "    </tr>\n",
              "    <tr>\n",
              "      <th>where is the ball</th>\n",
              "      <td>⚾</td>\n",
              "      <td>⚾</td>\n",
              "      <td>⚾</td>\n",
              "      <td>⚾</td>\n",
              "      <td>⚾</td>\n",
              "      <td>⚾</td>\n",
              "    </tr>\n",
              "    <tr>\n",
              "      <th>work is hard</th>\n",
              "      <td>😞</td>\n",
              "      <td>😞</td>\n",
              "      <td>😄</td>\n",
              "      <td>😄</td>\n",
              "      <td>😞</td>\n",
              "      <td>😞</td>\n",
              "    </tr>\n",
              "    <tr>\n",
              "      <th>This girl is messing with me</th>\n",
              "      <td>😄</td>\n",
              "      <td>😞</td>\n",
              "      <td>😞</td>\n",
              "      <td>😞</td>\n",
              "      <td>😞</td>\n",
              "      <td>😞</td>\n",
              "    </tr>\n",
              "    <tr>\n",
              "      <th>are you serious</th>\n",
              "      <td>😞</td>\n",
              "      <td>😞</td>\n",
              "      <td>😞</td>\n",
              "      <td>😞</td>\n",
              "      <td>😞</td>\n",
              "      <td>😞</td>\n",
              "    </tr>\n",
              "    <tr>\n",
              "      <th>Let us go play baseball</th>\n",
              "      <td>⚾</td>\n",
              "      <td>⚾</td>\n",
              "      <td>⚾</td>\n",
              "      <td>⚾</td>\n",
              "      <td>⚾</td>\n",
              "      <td>⚾</td>\n",
              "    </tr>\n",
              "    <tr>\n",
              "      <th>This stupid grader is not working</th>\n",
              "      <td>😄</td>\n",
              "      <td>😞</td>\n",
              "      <td>😞</td>\n",
              "      <td>😞</td>\n",
              "      <td>😞</td>\n",
              "      <td>😞</td>\n",
              "    </tr>\n",
              "    <tr>\n",
              "      <th>work is horrible</th>\n",
              "      <td>😞</td>\n",
              "      <td>😄</td>\n",
              "      <td>😞</td>\n",
              "      <td>😞</td>\n",
              "      <td>😄</td>\n",
              "      <td>😞</td>\n",
              "    </tr>\n",
              "    <tr>\n",
              "      <th>Congratulation for having a baby</th>\n",
              "      <td>❤️</td>\n",
              "      <td>😄</td>\n",
              "      <td>❤️</td>\n",
              "      <td>😄</td>\n",
              "      <td>❤️</td>\n",
              "      <td>😄</td>\n",
              "    </tr>\n",
              "    <tr>\n",
              "      <th>stop pissing me off</th>\n",
              "      <td>😞</td>\n",
              "      <td>😞</td>\n",
              "      <td>😞</td>\n",
              "      <td>😞</td>\n",
              "      <td>😞</td>\n",
              "      <td>😞</td>\n",
              "    </tr>\n",
              "    <tr>\n",
              "      <th>any suggestions for dinner</th>\n",
              "      <td>🍴</td>\n",
              "      <td>😄</td>\n",
              "      <td>🍴</td>\n",
              "      <td>😞</td>\n",
              "      <td>🍴</td>\n",
              "      <td>🍴</td>\n",
              "    </tr>\n",
              "    <tr>\n",
              "      <th>I love taking breaks</th>\n",
              "      <td>😞</td>\n",
              "      <td>❤️</td>\n",
              "      <td>😄</td>\n",
              "      <td>❤️</td>\n",
              "      <td>❤️</td>\n",
              "      <td>❤️</td>\n",
              "    </tr>\n",
              "    <tr>\n",
              "      <th>you brighten my day</th>\n",
              "      <td>😞</td>\n",
              "      <td>😄</td>\n",
              "      <td>😞</td>\n",
              "      <td>😞</td>\n",
              "      <td>😞</td>\n",
              "      <td>😄</td>\n",
              "    </tr>\n",
              "    <tr>\n",
              "      <th>I boiled rice</th>\n",
              "      <td>🍴</td>\n",
              "      <td>🍴</td>\n",
              "      <td>🍴</td>\n",
              "      <td>🍴</td>\n",
              "      <td>🍴</td>\n",
              "      <td>🍴</td>\n",
              "    </tr>\n",
              "    <tr>\n",
              "      <th>she is a bully</th>\n",
              "      <td>❤️</td>\n",
              "      <td>😞</td>\n",
              "      <td>❤️</td>\n",
              "      <td>❤️</td>\n",
              "      <td>❤️</td>\n",
              "      <td>😞</td>\n",
              "    </tr>\n",
              "    <tr>\n",
              "      <th>Why are you feeling bad</th>\n",
              "      <td>❤️</td>\n",
              "      <td>😞</td>\n",
              "      <td>😞</td>\n",
              "      <td>😞</td>\n",
              "      <td>😞</td>\n",
              "      <td>😞</td>\n",
              "    </tr>\n",
              "    <tr>\n",
              "      <th>I am upset</th>\n",
              "      <td>⚾</td>\n",
              "      <td>😞</td>\n",
              "      <td>😞</td>\n",
              "      <td>😞</td>\n",
              "      <td>😞</td>\n",
              "      <td>😞</td>\n",
              "    </tr>\n",
              "    <tr>\n",
              "      <th>give me the ball</th>\n",
              "      <td>😞</td>\n",
              "      <td>⚾</td>\n",
              "      <td>⚾</td>\n",
              "      <td>⚾</td>\n",
              "      <td>⚾</td>\n",
              "      <td>⚾</td>\n",
              "    </tr>\n",
              "    <tr>\n",
              "      <th>My grandmother is the love of my life</th>\n",
              "      <td>😞</td>\n",
              "      <td>❤️</td>\n",
              "      <td>😞</td>\n",
              "      <td>😄</td>\n",
              "      <td>😄</td>\n",
              "      <td>❤️</td>\n",
              "    </tr>\n",
              "    <tr>\n",
              "      <th>enjoy your game</th>\n",
              "      <td>⚾</td>\n",
              "      <td>⚾</td>\n",
              "      <td>⚾</td>\n",
              "      <td>⚾</td>\n",
              "      <td>⚾</td>\n",
              "      <td>⚾</td>\n",
              "    </tr>\n",
              "    <tr>\n",
              "      <th>valentine day is near</th>\n",
              "      <td>😄</td>\n",
              "      <td>😄</td>\n",
              "      <td>😄</td>\n",
              "      <td>😄</td>\n",
              "      <td>😄</td>\n",
              "      <td>😄</td>\n",
              "    </tr>\n",
              "    <tr>\n",
              "      <th>I miss you so much</th>\n",
              "      <td>😞</td>\n",
              "      <td>❤️</td>\n",
              "      <td>❤️</td>\n",
              "      <td>❤️</td>\n",
              "      <td>❤️</td>\n",
              "      <td>❤️</td>\n",
              "    </tr>\n",
              "    <tr>\n",
              "      <th>throw the ball</th>\n",
              "      <td>⚾</td>\n",
              "      <td>⚾</td>\n",
              "      <td>⚾</td>\n",
              "      <td>⚾</td>\n",
              "      <td>⚾</td>\n",
              "      <td>⚾</td>\n",
              "    </tr>\n",
              "    <tr>\n",
              "      <th>My life is so boring</th>\n",
              "      <td>❤️</td>\n",
              "      <td>❤️</td>\n",
              "      <td>😄</td>\n",
              "      <td>😄</td>\n",
              "      <td>😞</td>\n",
              "      <td>😞</td>\n",
              "    </tr>\n",
              "    <tr>\n",
              "      <th>she said yes</th>\n",
              "      <td>❤️</td>\n",
              "      <td>😄</td>\n",
              "      <td>😄</td>\n",
              "      <td>😄</td>\n",
              "      <td>😄</td>\n",
              "      <td>😄</td>\n",
              "    </tr>\n",
              "    <tr>\n",
              "      <th>will you be my valentine</th>\n",
              "      <td>❤️</td>\n",
              "      <td>❤️</td>\n",
              "      <td>😞</td>\n",
              "      <td>😞</td>\n",
              "      <td>❤️</td>\n",
              "      <td>😄</td>\n",
              "    </tr>\n",
              "    <tr>\n",
              "      <th>he can pitch really well</th>\n",
              "      <td>❤️</td>\n",
              "      <td>⚾</td>\n",
              "      <td>❤️</td>\n",
              "      <td>❤️</td>\n",
              "      <td>⚾</td>\n",
              "      <td>⚾</td>\n",
              "    </tr>\n",
              "    <tr>\n",
              "      <th>dance with me</th>\n",
              "      <td>😄</td>\n",
              "      <td>😄</td>\n",
              "      <td>😄</td>\n",
              "      <td>😄</td>\n",
              "      <td>😄</td>\n",
              "      <td>😄</td>\n",
              "    </tr>\n",
              "    <tr>\n",
              "      <th>I am hungry</th>\n",
              "      <td>🍴</td>\n",
              "      <td>🍴</td>\n",
              "      <td>🍴</td>\n",
              "      <td>🍴</td>\n",
              "      <td>🍴</td>\n",
              "      <td>🍴</td>\n",
              "    </tr>\n",
              "    <tr>\n",
              "      <th>See you at the restaurant</th>\n",
              "      <td>😄</td>\n",
              "      <td>🍴</td>\n",
              "      <td>🍴</td>\n",
              "      <td>🍴</td>\n",
              "      <td>🍴</td>\n",
              "      <td>🍴</td>\n",
              "    </tr>\n",
              "    <tr>\n",
              "      <th>I like to laugh</th>\n",
              "      <td>❤️</td>\n",
              "      <td>😄</td>\n",
              "      <td>😄</td>\n",
              "      <td>😄</td>\n",
              "      <td>😄</td>\n",
              "      <td>😄</td>\n",
              "    </tr>\n",
              "    <tr>\n",
              "      <th>I will  run</th>\n",
              "      <td>⚾</td>\n",
              "      <td>⚾</td>\n",
              "      <td>⚾</td>\n",
              "      <td>😄</td>\n",
              "      <td>⚾</td>\n",
              "      <td>⚾</td>\n",
              "    </tr>\n",
              "    <tr>\n",
              "      <th>I like your jacket</th>\n",
              "      <td>❤️</td>\n",
              "      <td>❤️</td>\n",
              "      <td>❤️</td>\n",
              "      <td>❤️</td>\n",
              "      <td>❤️</td>\n",
              "      <td>❤️</td>\n",
              "    </tr>\n",
              "    <tr>\n",
              "      <th>i miss her</th>\n",
              "      <td>❤️</td>\n",
              "      <td>❤️</td>\n",
              "      <td>❤️</td>\n",
              "      <td>❤️</td>\n",
              "      <td>❤️</td>\n",
              "      <td>❤️</td>\n",
              "    </tr>\n",
              "    <tr>\n",
              "      <th>what is your favorite baseball game</th>\n",
              "      <td>⚾</td>\n",
              "      <td>⚾</td>\n",
              "      <td>⚾</td>\n",
              "      <td>⚾</td>\n",
              "      <td>⚾</td>\n",
              "      <td>⚾</td>\n",
              "    </tr>\n",
              "    <tr>\n",
              "      <th>Good job</th>\n",
              "      <td>😄</td>\n",
              "      <td>😄</td>\n",
              "      <td>😄</td>\n",
              "      <td>😄</td>\n",
              "      <td>😄</td>\n",
              "      <td>😄</td>\n",
              "    </tr>\n",
              "    <tr>\n",
              "      <th>I love you to the stars and back</th>\n",
              "      <td>😞</td>\n",
              "      <td>❤️</td>\n",
              "      <td>😞</td>\n",
              "      <td>😄</td>\n",
              "      <td>😄</td>\n",
              "      <td>❤️</td>\n",
              "    </tr>\n",
              "    <tr>\n",
              "      <th>What you did was awesome</th>\n",
              "      <td>❤️</td>\n",
              "      <td>😄</td>\n",
              "      <td>😄</td>\n",
              "      <td>😄</td>\n",
              "      <td>😄</td>\n",
              "      <td>😄</td>\n",
              "    </tr>\n",
              "    <tr>\n",
              "      <th>ha ha ha lol</th>\n",
              "      <td>🍴</td>\n",
              "      <td>😄</td>\n",
              "      <td>😄</td>\n",
              "      <td>😄</td>\n",
              "      <td>😄</td>\n",
              "      <td>😄</td>\n",
              "    </tr>\n",
              "    <tr>\n",
              "      <th>I do not want to joke</th>\n",
              "      <td>😄</td>\n",
              "      <td>😞</td>\n",
              "      <td>😞</td>\n",
              "      <td>😞</td>\n",
              "      <td>😞</td>\n",
              "      <td>😞</td>\n",
              "    </tr>\n",
              "    <tr>\n",
              "      <th>go away</th>\n",
              "      <td>⚾</td>\n",
              "      <td>😞</td>\n",
              "      <td>😞</td>\n",
              "      <td>😞</td>\n",
              "      <td>😞</td>\n",
              "      <td>😞</td>\n",
              "    </tr>\n",
              "    <tr>\n",
              "      <th>yesterday we lost again</th>\n",
              "      <td>⚾</td>\n",
              "      <td>😞</td>\n",
              "      <td>😞</td>\n",
              "      <td>😞</td>\n",
              "      <td>😞</td>\n",
              "      <td>😞</td>\n",
              "    </tr>\n",
              "    <tr>\n",
              "      <th>family is all I have</th>\n",
              "      <td>😞</td>\n",
              "      <td>😞</td>\n",
              "      <td>😞</td>\n",
              "      <td>❤️</td>\n",
              "      <td>😞</td>\n",
              "      <td>❤️</td>\n",
              "    </tr>\n",
              "    <tr>\n",
              "      <th>you are failing this exercise</th>\n",
              "      <td>😞</td>\n",
              "      <td>😞</td>\n",
              "      <td>😞</td>\n",
              "      <td>😞</td>\n",
              "      <td>😞</td>\n",
              "      <td>😞</td>\n",
              "    </tr>\n",
              "    <tr>\n",
              "      <th>Good joke</th>\n",
              "      <td>😄</td>\n",
              "      <td>😄</td>\n",
              "      <td>😄</td>\n",
              "      <td>😄</td>\n",
              "      <td>😄</td>\n",
              "      <td>😄</td>\n",
              "    </tr>\n",
              "    <tr>\n",
              "      <th>You deserve this nice prize</th>\n",
              "      <td>😄</td>\n",
              "      <td>😄</td>\n",
              "      <td>😄</td>\n",
              "      <td>😄</td>\n",
              "      <td>😄</td>\n",
              "      <td>😄</td>\n",
              "    </tr>\n",
              "    <tr>\n",
              "      <th>I did not have breakfast</th>\n",
              "      <td>🍴</td>\n",
              "      <td>❤️</td>\n",
              "      <td>🍴</td>\n",
              "      <td>🍴</td>\n",
              "      <td>🍴</td>\n",
              "      <td>🍴</td>\n",
              "    </tr>\n",
              "  </tbody>\n",
              "</table>\n",
              "</div>"
            ],
            "text/plain": [
              "                                      RNN+SGD+50d  ... reference\n",
              "I want to eat                                   🍴  ...         🍴\n",
              "he did not answer                               😞  ...         😞\n",
              "he got a very nice raise                        😄  ...         😄\n",
              "she got me a nice present                       😄  ...         😄\n",
              "ha ha ha it was so funny                        😄  ...         😄\n",
              "he is a good friend                             😄  ...         😄\n",
              "I am upset                                      ⚾  ...         😞\n",
              "We had such a lovely dinner tonight             ⚾  ...         😄\n",
              "where is the food                               🍴  ...         🍴\n",
              "Stop making this joke ha ha ha                  😞  ...         😄\n",
              "where is the ball                               ⚾  ...         ⚾\n",
              "work is hard                                    😞  ...         😞\n",
              "This girl is messing with me                    😄  ...         😞\n",
              "are you serious                                 😞  ...         😞\n",
              "Let us go play baseball                         ⚾  ...         ⚾\n",
              "This stupid grader is not working               😄  ...         😞\n",
              "work is horrible                                😞  ...         😞\n",
              "Congratulation for having a baby               ❤️  ...         😄\n",
              "stop pissing me off                             😞  ...         😞\n",
              "any suggestions for dinner                      🍴  ...         🍴\n",
              "I love taking breaks                            😞  ...        ❤️\n",
              "you brighten my day                             😞  ...         😄\n",
              "I boiled rice                                   🍴  ...         🍴\n",
              "she is a bully                                 ❤️  ...         😞\n",
              "Why are you feeling bad                        ❤️  ...         😞\n",
              "I am upset                                      ⚾  ...         😞\n",
              "give me the ball                                😞  ...         ⚾\n",
              "My grandmother is the love of my life           😞  ...        ❤️\n",
              "enjoy your game                                 ⚾  ...         ⚾\n",
              "valentine day is near                           😄  ...         😄\n",
              "I miss you so much                              😞  ...        ❤️\n",
              "throw the ball                                  ⚾  ...         ⚾\n",
              "My life is so boring                           ❤️  ...         😞\n",
              "she said yes                                   ❤️  ...         😄\n",
              "will you be my valentine                       ❤️  ...         😄\n",
              "he can pitch really well                       ❤️  ...         ⚾\n",
              "dance with me                                   😄  ...         😄\n",
              "I am hungry                                     🍴  ...         🍴\n",
              "See you at the restaurant                       😄  ...         🍴\n",
              "I like to laugh                                ❤️  ...         😄\n",
              "I will  run                                     ⚾  ...         ⚾\n",
              "I like your jacket                             ❤️  ...        ❤️\n",
              "i miss her                                     ❤️  ...        ❤️\n",
              "what is your favorite baseball game             ⚾  ...         ⚾\n",
              "Good job                                        😄  ...         😄\n",
              "I love you to the stars and back                😞  ...        ❤️\n",
              "What you did was awesome                       ❤️  ...         😄\n",
              "ha ha ha lol                                    🍴  ...         😄\n",
              "I do not want to joke                           😄  ...         😞\n",
              "go away                                         ⚾  ...         😞\n",
              "yesterday we lost again                         ⚾  ...         😞\n",
              "family is all I have                            😞  ...        ❤️\n",
              "you are failing this exercise                   😞  ...         😞\n",
              "Good joke                                       😄  ...         😄\n",
              "You deserve this nice prize                     😄  ...         😄\n",
              "I did not have breakfast                        🍴  ...         🍴\n",
              "\n",
              "[56 rows x 6 columns]"
            ]
          },
          "metadata": {
            "tags": []
          },
          "execution_count": 36
        }
      ]
    },
    {
      "cell_type": "markdown",
      "metadata": {
        "id": "vOIullU31dUi"
      },
      "source": [
        "## 9. Discussion"
      ]
    },
    {
      "cell_type": "markdown",
      "metadata": {
        "id": "A8Irf2I31h74"
      },
      "source": [
        "### 9.1 What is GloVe\n",
        "\n",
        "GloVe was developed to overcome drawbacks of Word2Vec. The traditional embadding method, Word2Vec, does not concerned about co-occurrence. However, GloVe can not only get similiarity whitin two vectors, but also reflect occurrence of each word. Therefore, it can expect that GloVe does more accurate word embadding."
      ]
    },
    {
      "cell_type": "code",
      "metadata": {
        "id": "ohNpKHEsUn8D"
      },
      "source": [
        ""
      ],
      "execution_count": null,
      "outputs": []
    }
  ]
}